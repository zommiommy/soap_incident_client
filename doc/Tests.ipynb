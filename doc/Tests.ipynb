{
 "cells": [
  {
   "cell_type": "code",
   "execution_count": 6,
   "metadata": {},
   "outputs": [],
   "source": [
    "import zeep\n",
    "from zeep import xsd\n",
    "from zeep import Client\n",
    "from lxml import etree as ET"
   ]
  },
  {
   "cell_type": "code",
   "execution_count": 7,
   "metadata": {},
   "outputs": [],
   "source": [
    "client = Client(\"../wsdls/sviluppo.wsdl\")"
   ]
  },
  {
   "cell_type": "code",
   "execution_count": 9,
   "metadata": {},
   "outputs": [],
   "source": [
    "kwargs = {\"en\":\"a\", \"it\":\"b\"}"
   ]
  },
  {
   "cell_type": "code",
   "execution_count": 16,
   "metadata": {},
   "outputs": [],
   "source": [
    "seq = xsd.Sequence([\n",
    "    xsd.Element(key, xsd.String())\n",
    "    for key in kwargs.keys()\n",
    "])"
   ]
  },
  {
   "cell_type": "code",
   "execution_count": 67,
   "metadata": {},
   "outputs": [
    {
     "data": {
      "text/plain": [
       "{\n",
       "    'en': 'a',\n",
       "    'it': 'b'\n",
       "}"
      ]
     },
     "execution_count": 67,
     "metadata": {},
     "output_type": "execute_result"
    }
   ],
   "source": [
    "b= xsd.ComplexType(seq)(**kwargs)\n",
    "b"
   ]
  },
  {
   "cell_type": "code",
   "execution_count": 90,
   "metadata": {},
   "outputs": [
    {
     "data": {
      "text/plain": [
       "<Element(name='my_tag', type=<Sequence([<Element(name='en', type=<zeep.xsd.types.builtins.String object at 0x7f8f85b7d820>)>, <Element(name='it', type=<zeep.xsd.types.builtins.String object at 0x7f8f85b7db20>)>])>)>"
      ]
     },
     "execution_count": 90,
     "metadata": {},
     "output_type": "execute_result"
    }
   ],
   "source": [
    "el = xsd.Element(\"my_tag\", seq)\n",
    "el"
   ]
  },
  {
   "cell_type": "code",
   "execution_count": 91,
   "metadata": {},
   "outputs": [],
   "source": [
    "a = xsd.AnyObject(el, xsd.ComplexType(el)(b))"
   ]
  },
  {
   "cell_type": "code",
   "execution_count": 92,
   "metadata": {},
   "outputs": [
    {
     "data": {
      "text/plain": [
       "{\n",
       "    '_value_1': None,\n",
       "    'my_tag': {\n",
       "        'en': 'a',\n",
       "        'it': 'b'\n",
       "    }\n",
       "}"
      ]
     },
     "execution_count": 92,
     "metadata": {},
     "output_type": "execute_result"
    }
   ],
   "source": [
    "a.value"
   ]
  },
  {
   "cell_type": "code",
   "execution_count": 116,
   "metadata": {},
   "outputs": [],
   "source": [
    "node = ET.Element(\"my_tag\")\n",
    "n1 = ET.SubElement(node, \"child2\")\n",
    "n1.text = \"NO\"\n",
    "n2 = ET.SubElement(node, \"child3\")\n",
    "n2.text = \"NIU\""
   ]
  },
  {
   "cell_type": "code",
   "execution_count": 120,
   "metadata": {},
   "outputs": [
    {
     "ename": "TypeError",
     "evalue": "Only processing instructions and comments can be siblings of the root element",
     "output_type": "error",
     "traceback": [
      "\u001b[0;31m---------------------------------------------------------------------------\u001b[0m",
      "\u001b[0;31mTypeError\u001b[0m                                 Traceback (most recent call last)",
      "\u001b[0;32m<ipython-input-120-9a85f56a5541>\u001b[0m in \u001b[0;36m<module>\u001b[0;34m\u001b[0m\n\u001b[1;32m      1\u001b[0m \u001b[0mn\u001b[0m \u001b[0;34m=\u001b[0m \u001b[0mET\u001b[0m\u001b[0;34m.\u001b[0m\u001b[0mElement\u001b[0m\u001b[0;34m(\u001b[0m\u001b[0;34m\"my_tag\"\u001b[0m\u001b[0;34m)\u001b[0m\u001b[0;34m\u001b[0m\u001b[0;34m\u001b[0m\u001b[0m\n\u001b[1;32m      2\u001b[0m \u001b[0mn\u001b[0m\u001b[0;34m.\u001b[0m\u001b[0mtext\u001b[0m \u001b[0;34m=\u001b[0m \u001b[0;34m\"yasfj\"\u001b[0m\u001b[0;34m\u001b[0m\u001b[0;34m\u001b[0m\u001b[0m\n\u001b[0;32m----> 3\u001b[0;31m \u001b[0mnode\u001b[0m\u001b[0;34m.\u001b[0m\u001b[0maddnext\u001b[0m\u001b[0;34m(\u001b[0m\u001b[0mn\u001b[0m\u001b[0;34m)\u001b[0m\u001b[0;34m\u001b[0m\u001b[0;34m\u001b[0m\u001b[0m\n\u001b[0m",
      "\u001b[0;32msrc/lxml/etree.pyx\u001b[0m in \u001b[0;36mlxml.etree._Element.addnext\u001b[0;34m()\u001b[0m\n",
      "\u001b[0;31mTypeError\u001b[0m: Only processing instructions and comments can be siblings of the root element"
     ]
    }
   ],
   "source": [
    "n = ET.Element(\"my_tag\")\n",
    "n.text = \"yasfj\"\n",
    "node.append(n)"
   ]
  },
  {
   "cell_type": "code",
   "execution_count": 119,
   "metadata": {},
   "outputs": [
    {
     "name": "stdout",
     "output_type": "stream",
     "text": [
      "<my_tag>\n",
      "  <child2>NO</child2>\n",
      "  <child3>NIU</child3>\n",
      "  <my_tag>yasfj</my_tag>\n",
      "</my_tag>\n",
      "\n"
     ]
    }
   ],
   "source": [
    "tree = ET.ElementTree(node)\n",
    "print(ET.tostring(tree, pretty_print=True).decode())"
   ]
  },
  {
   "cell_type": "code",
   "execution_count": 114,
   "metadata": {
    "scrolled": true
   },
   "outputs": [
    {
     "name": "stdout",
     "output_type": "stream",
     "text": [
      "<soap-env:Envelope xmlns:soap-env=\"http://schemas.xmlsoap.org/soap/envelope/\">\n",
      "  <soap-env:Body>\n",
      "    <ns0:ProcessOperation xmlns:ns0=\"http://www.iet-solutions.de/\">\n",
      "      <ns0:identId>identId</ns0:identId>\n",
      "      <ns0:password>password</ns0:password>\n",
      "      <ns0:prozess>prozess</ns0:prozess>\n",
      "      <ns0:version>1.0</ns0:version>\n",
      "      <ns0:processData>\n",
      "        <my_tag>\n",
      "          <child2>NO</child2>\n",
      "          <child3>NIU</child3>\n",
      "        </my_tag>\n",
      "      </ns0:processData>\n",
      "    </ns0:ProcessOperation>\n",
      "  </soap-env:Body>\n",
      "</soap-env:Envelope>\n",
      "\n"
     ]
    }
   ],
   "source": [
    "node = client.create_message(client.service, \"ProcessOperation\",\n",
    "            identId=\"identId\",\n",
    "            password=\"password\",\n",
    "            prozess=\"prozess\",\n",
    "            version=1.0,\n",
    "            processData=node\n",
    ")\n",
    "tree = ET.ElementTree(node)\n",
    "print(ET.tostring(tree, pretty_print=True).decode())"
   ]
  },
  {
   "cell_type": "code",
   "execution_count": 115,
   "metadata": {},
   "outputs": [
    {
     "data": {
      "text/plain": [
       "<AnyObject(type=<Sequence([<Element(name='en', type=<zeep.xsd.types.builtins.String object at 0x7f8f853fe0d0>)>, <Element(name='it', type=<zeep.xsd.types.builtins.String object at 0x7f8f853ba130>)>])>, value={\n",
       "    'en': 'a',\n",
       "    'it': 'b'\n",
       "})>"
      ]
     },
     "execution_count": 115,
     "metadata": {},
     "output_type": "execute_result"
    }
   ],
   "source": [
    "dict_to_obj(kwargs)"
   ]
  },
  {
   "cell_type": "code",
   "execution_count": null,
   "metadata": {},
   "outputs": [],
   "source": []
  }
 ],
 "metadata": {
  "kernelspec": {
   "display_name": "Python 3",
   "language": "python",
   "name": "python3"
  },
  "language_info": {
   "codemirror_mode": {
    "name": "ipython",
    "version": 3
   },
   "file_extension": ".py",
   "mimetype": "text/x-python",
   "name": "python",
   "nbconvert_exporter": "python",
   "pygments_lexer": "ipython3",
   "version": "3.8.3"
  }
 },
 "nbformat": 4,
 "nbformat_minor": 4
}
